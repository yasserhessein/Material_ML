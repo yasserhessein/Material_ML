{
 "cells": [
  {
   "cell_type": "code",
   "execution_count": null,
   "id": "a6820311",
   "metadata": {},
   "outputs": [],
   "source": [
    "C++\n",
    "#include <iostream>\n",
    "    \n",
    "    \n",
    "\n",
    "int main() {\n",
    "    // Adding 1 and 1 together\n",
    "    int result = 1 + 1;\n",
    "    \n",
    "    // Output the result\n",
    "    std::cout << \"1 + 1 = \" << result << std::endl;\n",
    "    \n",
    "    return 0;\n",
    "}\n",
    "\n"
   ]
  },
  {
   "cell_type": "code",
   "execution_count": null,
   "id": "45d44c2c",
   "metadata": {},
   "outputs": [],
   "source": [
    "C#\n",
    "using System;\n",
    "\n",
    "class Program\n",
    "{\n",
    "    static void Main(string[] args)\n",
    "    {\n",
    "        // Adding 1 and 1 together\n",
    "        int result = 1 + 1;\n",
    "        \n",
    "        // Output the result\n",
    "        Console.WriteLine(\"1 + 1 = \" + result);\n",
    "    }\n",
    "}\n"
   ]
  },
  {
   "cell_type": "code",
   "execution_count": null,
   "id": "e1d6d23a",
   "metadata": {},
   "outputs": [],
   "source": [
    "<?php\n",
    "\n",
    "// Adding 1 and 1 together\n",
    "$result = 1 + 1;\n",
    "\n",
    "// Output the result\n",
    "echo \"1 + 1 = \" . $result;\n",
    "\n",
    "?>\n"
   ]
  },
  {
   "cell_type": "code",
   "execution_count": 2,
   "id": "342c84dc",
   "metadata": {},
   "outputs": [
    {
     "data": {
      "text/plain": [
       "2"
      ]
     },
     "execution_count": 2,
     "metadata": {},
     "output_type": "execute_result"
    }
   ],
   "source": [
    "#Python\n",
    "\n",
    "1+1"
   ]
  },
  {
   "cell_type": "code",
   "execution_count": 3,
   "id": "d07c2910",
   "metadata": {},
   "outputs": [
    {
     "data": {
      "text/plain": [
       "4"
      ]
     },
     "execution_count": 3,
     "metadata": {},
     "output_type": "execute_result"
    }
   ],
   "source": [
    "1+2+1"
   ]
  },
  {
   "cell_type": "code",
   "execution_count": 4,
   "id": "13705b7d",
   "metadata": {},
   "outputs": [],
   "source": [
    "a = 120 +3* 7"
   ]
  },
  {
   "cell_type": "code",
   "execution_count": 5,
   "id": "f334d1a2",
   "metadata": {},
   "outputs": [
    {
     "name": "stdout",
     "output_type": "stream",
     "text": [
      "141\n"
     ]
    }
   ],
   "source": [
    "print(a)"
   ]
  },
  {
   "cell_type": "code",
   "execution_count": 6,
   "id": "313bfc2d",
   "metadata": {},
   "outputs": [
    {
     "name": "stdout",
     "output_type": "stream",
     "text": [
      "Hello guys\n"
     ]
    }
   ],
   "source": [
    "print(\"Hello guys\" )"
   ]
  },
  {
   "cell_type": "code",
   "execution_count": 7,
   "id": "3610275e",
   "metadata": {},
   "outputs": [
    {
     "data": {
      "text/plain": [
       "'Hello guys'"
      ]
     },
     "execution_count": 7,
     "metadata": {},
     "output_type": "execute_result"
    }
   ],
   "source": [
    "\"Hello guys\""
   ]
  },
  {
   "cell_type": "code",
   "execution_count": 8,
   "id": "8cde87f3",
   "metadata": {},
   "outputs": [
    {
     "name": "stdout",
     "output_type": "stream",
     "text": [
      "Enter your name: ammoer\n",
      "Hello, ammoer!\n"
     ]
    }
   ],
   "source": [
    "#Input & Output:\n",
    "\n",
    "# Input\n",
    "name = input(\"Enter your name: \")\n",
    "print(\"Hello, \" + name + \"!\")\n",
    "\n"
   ]
  },
  {
   "cell_type": "code",
   "execution_count": null,
   "id": "ba9fd74c",
   "metadata": {},
   "outputs": [],
   "source": [
    "# Output\n",
    "print(\"This is some output.\")"
   ]
  },
  {
   "cell_type": "code",
   "execution_count": null,
   "id": "e665ad5a",
   "metadata": {},
   "outputs": [],
   "source": [
    "pip install package_name"
   ]
  },
  {
   "cell_type": "code",
   "execution_count": 9,
   "id": "2dd266f6",
   "metadata": {},
   "outputs": [
    {
     "name": "stdout",
     "output_type": "stream",
     "text": [
      "Defaulting to user installation because normal site-packages is not writeable\n",
      "Requirement already satisfied: pandas in c:\\programdata\\anaconda3\\lib\\site-packages (1.5.3)\n",
      "Requirement already satisfied: python-dateutil>=2.8.1 in c:\\programdata\\anaconda3\\lib\\site-packages (from pandas) (2.8.2)\n",
      "Requirement already satisfied: pytz>=2020.1 in c:\\programdata\\anaconda3\\lib\\site-packages (from pandas) (2022.7)\n",
      "Requirement already satisfied: numpy>=1.21.0 in c:\\programdata\\anaconda3\\lib\\site-packages (from pandas) (1.24.3)\n",
      "Requirement already satisfied: six>=1.5 in c:\\programdata\\anaconda3\\lib\\site-packages (from python-dateutil>=2.8.1->pandas) (1.16.0)\n",
      "Note: you may need to restart the kernel to use updated packages.\n"
     ]
    }
   ],
   "source": [
    "pip install pandas"
   ]
  },
  {
   "cell_type": "code",
   "execution_count": null,
   "id": "0aeffdd0",
   "metadata": {},
   "outputs": [],
   "source": []
  }
 ],
 "metadata": {
  "kernelspec": {
   "display_name": "Python 3 (ipykernel)",
   "language": "python",
   "name": "python3"
  },
  "language_info": {
   "codemirror_mode": {
    "name": "ipython",
    "version": 3
   },
   "file_extension": ".py",
   "mimetype": "text/x-python",
   "name": "python",
   "nbconvert_exporter": "python",
   "pygments_lexer": "ipython3",
   "version": "3.11.4"
  }
 },
 "nbformat": 4,
 "nbformat_minor": 5
}
